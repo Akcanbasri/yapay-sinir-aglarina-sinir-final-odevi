{
 "cells": [
  {
   "cell_type": "code",
   "execution_count": 21,
   "metadata": {},
   "outputs": [],
   "source": [
    "import pandas as pd  # Importing the pandas library for data manipulation and analysis\n",
    "import numpy as np  # Importing the numpy library for numerical operations\n",
    "import matplotlib.pyplot as plt  # Importing the matplotlib library for data visualization\n",
    "import seaborn as sns  # Importing the seaborn library for statistical data visualization\n",
    "from sklearn import preprocessing  # Importing the preprocessing module from scikit-learn for data preprocessing\n",
    "from sklearn.model_selection import train_test_split  # Importing train_test_split function for splitting the data into training and testing sets\n",
    "from keras.models import Sequential  # Importing the Sequential class from the keras.models module for creating a neural network model\n",
    "from keras.layers import Dense  # Importing the Dense class from the keras.layers module for adding dense layers to the neural network model\n"
   ]
  },
  {
   "cell_type": "code",
   "execution_count": 22,
   "metadata": {},
   "outputs": [
    {
     "data": {
      "text/html": [
       "<div>\n",
       "<style scoped>\n",
       "    .dataframe tbody tr th:only-of-type {\n",
       "        vertical-align: middle;\n",
       "    }\n",
       "\n",
       "    .dataframe tbody tr th {\n",
       "        vertical-align: top;\n",
       "    }\n",
       "\n",
       "    .dataframe thead th {\n",
       "        text-align: right;\n",
       "    }\n",
       "</style>\n",
       "<table border=\"1\" class=\"dataframe\">\n",
       "  <thead>\n",
       "    <tr style=\"text-align: right;\">\n",
       "      <th></th>\n",
       "      <th>sepal.length</th>\n",
       "      <th>sepal.width</th>\n",
       "      <th>petal.length</th>\n",
       "      <th>petal.width</th>\n",
       "      <th>variety</th>\n",
       "    </tr>\n",
       "  </thead>\n",
       "  <tbody>\n",
       "    <tr>\n",
       "      <th>0</th>\n",
       "      <td>5.1</td>\n",
       "      <td>3.5</td>\n",
       "      <td>1.4</td>\n",
       "      <td>0.2</td>\n",
       "      <td>Setosa</td>\n",
       "    </tr>\n",
       "    <tr>\n",
       "      <th>1</th>\n",
       "      <td>4.9</td>\n",
       "      <td>3.0</td>\n",
       "      <td>1.4</td>\n",
       "      <td>0.2</td>\n",
       "      <td>Setosa</td>\n",
       "    </tr>\n",
       "    <tr>\n",
       "      <th>2</th>\n",
       "      <td>4.7</td>\n",
       "      <td>3.2</td>\n",
       "      <td>1.3</td>\n",
       "      <td>0.2</td>\n",
       "      <td>Setosa</td>\n",
       "    </tr>\n",
       "    <tr>\n",
       "      <th>3</th>\n",
       "      <td>4.6</td>\n",
       "      <td>3.1</td>\n",
       "      <td>1.5</td>\n",
       "      <td>0.2</td>\n",
       "      <td>Setosa</td>\n",
       "    </tr>\n",
       "    <tr>\n",
       "      <th>4</th>\n",
       "      <td>5.0</td>\n",
       "      <td>3.6</td>\n",
       "      <td>1.4</td>\n",
       "      <td>0.2</td>\n",
       "      <td>Setosa</td>\n",
       "    </tr>\n",
       "  </tbody>\n",
       "</table>\n",
       "</div>"
      ],
      "text/plain": [
       "   sepal.length  sepal.width  petal.length  petal.width variety\n",
       "0           5.1          3.5           1.4          0.2  Setosa\n",
       "1           4.9          3.0           1.4          0.2  Setosa\n",
       "2           4.7          3.2           1.3          0.2  Setosa\n",
       "3           4.6          3.1           1.5          0.2  Setosa\n",
       "4           5.0          3.6           1.4          0.2  Setosa"
      ]
     },
     "execution_count": 22,
     "metadata": {},
     "output_type": "execute_result"
    }
   ],
   "source": [
    "iris = pd.read_csv('iris.csv')  # Reading the 'iris.csv' file and storing the data in the 'iris' DataFrame\n",
    "df = iris.copy()  # Creating a copy of the 'iris' DataFrame and assigning it to 'df' for further operations\n",
    "df.head()  # Displaying the first few rows of the DataFrame 'df'\n"
   ]
  },
  {
   "cell_type": "code",
   "execution_count": 23,
   "metadata": {},
   "outputs": [
    {
     "name": "stdout",
     "output_type": "stream",
     "text": [
      "(150, 5)\n",
      "<class 'pandas.core.frame.DataFrame'>\n",
      "RangeIndex: 150 entries, 0 to 149\n",
      "Data columns (total 5 columns):\n",
      " #   Column        Non-Null Count  Dtype  \n",
      "---  ------        --------------  -----  \n",
      " 0   sepal.length  150 non-null    float64\n",
      " 1   sepal.width   150 non-null    float64\n",
      " 2   petal.length  150 non-null    float64\n",
      " 3   petal.width   150 non-null    float64\n",
      " 4   variety       150 non-null    object \n",
      "dtypes: float64(4), object(1)\n",
      "memory usage: 6.0+ KB\n",
      "None\n"
     ]
    }
   ],
   "source": [
    "print(df.shape)  # Printing the shape of the DataFrame 'df', which shows the number of rows and columns\n",
    "print(df.info())  # Printing the information about the DataFrame 'df', including column names, data types, and memory usage\n"
   ]
  },
  {
   "cell_type": "code",
   "execution_count": 24,
   "metadata": {},
   "outputs": [
    {
     "data": {
      "text/html": [
       "<div>\n",
       "<style scoped>\n",
       "    .dataframe tbody tr th:only-of-type {\n",
       "        vertical-align: middle;\n",
       "    }\n",
       "\n",
       "    .dataframe tbody tr th {\n",
       "        vertical-align: top;\n",
       "    }\n",
       "\n",
       "    .dataframe thead th {\n",
       "        text-align: right;\n",
       "    }\n",
       "</style>\n",
       "<table border=\"1\" class=\"dataframe\">\n",
       "  <thead>\n",
       "    <tr style=\"text-align: right;\">\n",
       "      <th></th>\n",
       "      <th>count</th>\n",
       "      <th>mean</th>\n",
       "      <th>std</th>\n",
       "      <th>min</th>\n",
       "      <th>25%</th>\n",
       "      <th>50%</th>\n",
       "      <th>75%</th>\n",
       "      <th>max</th>\n",
       "    </tr>\n",
       "  </thead>\n",
       "  <tbody>\n",
       "    <tr>\n",
       "      <th>sepal.length</th>\n",
       "      <td>150.0</td>\n",
       "      <td>5.843333</td>\n",
       "      <td>0.828066</td>\n",
       "      <td>4.3</td>\n",
       "      <td>5.1</td>\n",
       "      <td>5.80</td>\n",
       "      <td>6.4</td>\n",
       "      <td>7.9</td>\n",
       "    </tr>\n",
       "    <tr>\n",
       "      <th>sepal.width</th>\n",
       "      <td>150.0</td>\n",
       "      <td>3.057333</td>\n",
       "      <td>0.435866</td>\n",
       "      <td>2.0</td>\n",
       "      <td>2.8</td>\n",
       "      <td>3.00</td>\n",
       "      <td>3.3</td>\n",
       "      <td>4.4</td>\n",
       "    </tr>\n",
       "    <tr>\n",
       "      <th>petal.length</th>\n",
       "      <td>150.0</td>\n",
       "      <td>3.758000</td>\n",
       "      <td>1.765298</td>\n",
       "      <td>1.0</td>\n",
       "      <td>1.6</td>\n",
       "      <td>4.35</td>\n",
       "      <td>5.1</td>\n",
       "      <td>6.9</td>\n",
       "    </tr>\n",
       "    <tr>\n",
       "      <th>petal.width</th>\n",
       "      <td>150.0</td>\n",
       "      <td>1.199333</td>\n",
       "      <td>0.762238</td>\n",
       "      <td>0.1</td>\n",
       "      <td>0.3</td>\n",
       "      <td>1.30</td>\n",
       "      <td>1.8</td>\n",
       "      <td>2.5</td>\n",
       "    </tr>\n",
       "  </tbody>\n",
       "</table>\n",
       "</div>"
      ],
      "text/plain": [
       "              count      mean       std  min  25%   50%  75%  max\n",
       "sepal.length  150.0  5.843333  0.828066  4.3  5.1  5.80  6.4  7.9\n",
       "sepal.width   150.0  3.057333  0.435866  2.0  2.8  3.00  3.3  4.4\n",
       "petal.length  150.0  3.758000  1.765298  1.0  1.6  4.35  5.1  6.9\n",
       "petal.width   150.0  1.199333  0.762238  0.1  0.3  1.30  1.8  2.5"
      ]
     },
     "execution_count": 24,
     "metadata": {},
     "output_type": "execute_result"
    }
   ],
   "source": [
    "df.describe().T # Displaying the descriptive statistics of the DataFrame 'df'"
   ]
  },
  {
   "cell_type": "code",
   "execution_count": 25,
   "metadata": {},
   "outputs": [],
   "source": [
    "# Splitting the input and output variables\n",
    "x = df.iloc[:, 0:4]  # Selecting all rows and the first 4 columns as the input variables and assigning it to 'x'\n",
    "y = df.iloc[:, 4:5]  # Selecting all rows and the 5th column as the output variable and assigning it to 'y'\n"
   ]
  },
  {
   "cell_type": "code",
   "execution_count": 26,
   "metadata": {},
   "outputs": [
    {
     "data": {
      "text/html": [
       "<div>\n",
       "<style scoped>\n",
       "    .dataframe tbody tr th:only-of-type {\n",
       "        vertical-align: middle;\n",
       "    }\n",
       "\n",
       "    .dataframe tbody tr th {\n",
       "        vertical-align: top;\n",
       "    }\n",
       "\n",
       "    .dataframe thead th {\n",
       "        text-align: right;\n",
       "    }\n",
       "</style>\n",
       "<table border=\"1\" class=\"dataframe\">\n",
       "  <thead>\n",
       "    <tr style=\"text-align: right;\">\n",
       "      <th></th>\n",
       "      <th>sepal.length</th>\n",
       "      <th>sepal.width</th>\n",
       "      <th>petal.length</th>\n",
       "      <th>petal.width</th>\n",
       "    </tr>\n",
       "  </thead>\n",
       "  <tbody>\n",
       "    <tr>\n",
       "      <th>0</th>\n",
       "      <td>5.1</td>\n",
       "      <td>3.5</td>\n",
       "      <td>1.4</td>\n",
       "      <td>0.2</td>\n",
       "    </tr>\n",
       "    <tr>\n",
       "      <th>1</th>\n",
       "      <td>4.9</td>\n",
       "      <td>3.0</td>\n",
       "      <td>1.4</td>\n",
       "      <td>0.2</td>\n",
       "    </tr>\n",
       "    <tr>\n",
       "      <th>2</th>\n",
       "      <td>4.7</td>\n",
       "      <td>3.2</td>\n",
       "      <td>1.3</td>\n",
       "      <td>0.2</td>\n",
       "    </tr>\n",
       "    <tr>\n",
       "      <th>3</th>\n",
       "      <td>4.6</td>\n",
       "      <td>3.1</td>\n",
       "      <td>1.5</td>\n",
       "      <td>0.2</td>\n",
       "    </tr>\n",
       "    <tr>\n",
       "      <th>4</th>\n",
       "      <td>5.0</td>\n",
       "      <td>3.6</td>\n",
       "      <td>1.4</td>\n",
       "      <td>0.2</td>\n",
       "    </tr>\n",
       "  </tbody>\n",
       "</table>\n",
       "</div>"
      ],
      "text/plain": [
       "   sepal.length  sepal.width  petal.length  petal.width\n",
       "0           5.1          3.5           1.4          0.2\n",
       "1           4.9          3.0           1.4          0.2\n",
       "2           4.7          3.2           1.3          0.2\n",
       "3           4.6          3.1           1.5          0.2\n",
       "4           5.0          3.6           1.4          0.2"
      ]
     },
     "execution_count": 26,
     "metadata": {},
     "output_type": "execute_result"
    }
   ],
   "source": [
    "x.head() # Displaying the first few rows of the input variables"
   ]
  },
  {
   "cell_type": "code",
   "execution_count": 27,
   "metadata": {},
   "outputs": [
    {
     "data": {
      "text/html": [
       "<div>\n",
       "<style scoped>\n",
       "    .dataframe tbody tr th:only-of-type {\n",
       "        vertical-align: middle;\n",
       "    }\n",
       "\n",
       "    .dataframe tbody tr th {\n",
       "        vertical-align: top;\n",
       "    }\n",
       "\n",
       "    .dataframe thead th {\n",
       "        text-align: right;\n",
       "    }\n",
       "</style>\n",
       "<table border=\"1\" class=\"dataframe\">\n",
       "  <thead>\n",
       "    <tr style=\"text-align: right;\">\n",
       "      <th></th>\n",
       "      <th>variety</th>\n",
       "    </tr>\n",
       "  </thead>\n",
       "  <tbody>\n",
       "    <tr>\n",
       "      <th>0</th>\n",
       "      <td>Setosa</td>\n",
       "    </tr>\n",
       "    <tr>\n",
       "      <th>1</th>\n",
       "      <td>Setosa</td>\n",
       "    </tr>\n",
       "    <tr>\n",
       "      <th>2</th>\n",
       "      <td>Setosa</td>\n",
       "    </tr>\n",
       "    <tr>\n",
       "      <th>3</th>\n",
       "      <td>Setosa</td>\n",
       "    </tr>\n",
       "    <tr>\n",
       "      <th>4</th>\n",
       "      <td>Setosa</td>\n",
       "    </tr>\n",
       "  </tbody>\n",
       "</table>\n",
       "</div>"
      ],
      "text/plain": [
       "  variety\n",
       "0  Setosa\n",
       "1  Setosa\n",
       "2  Setosa\n",
       "3  Setosa\n",
       "4  Setosa"
      ]
     },
     "execution_count": 27,
     "metadata": {},
     "output_type": "execute_result"
    }
   ],
   "source": [
    "y.head() # Displaying the first few rows of the output variable"
   ]
  },
  {
   "cell_type": "code",
   "execution_count": 28,
   "metadata": {},
   "outputs": [],
   "source": [
    "encoded_y = y.apply(preprocessing.LabelEncoder().fit_transform)  # Applying label encoding to the output variable 'y' using the LabelEncoder from the preprocessing module\n",
    "ohenc = preprocessing.OneHotEncoder()  # Creating an instance of the OneHotEncoder from the preprocessing module\n",
    "y = ohenc.fit_transform(encoded_y).toarray()  # Applying one-hot encoding to the encoded output variable 'encoded_y' and converting it to a NumPy array\n"
   ]
  },
  {
   "cell_type": "code",
   "execution_count": 29,
   "metadata": {},
   "outputs": [],
   "source": [
    "# Creating a new DataFrame 'y' with categorical labels\n",
    "# setosa = [1, 0, 0], versicolor = [0, 1, 0], virginica = [0, 0, 1]\n",
    "y = pd.DataFrame(y, columns=['setosa', 'versicolor', 'virginica'])\n"
   ]
  },
  {
   "cell_type": "code",
   "execution_count": 30,
   "metadata": {},
   "outputs": [],
   "source": [
    "# Using StandardScaler for feature scaling\n",
    "scaler = preprocessing.StandardScaler()  # Creating an instance of the StandardScaler from the preprocessing module\n",
    "x = scaler.fit_transform(x)  # Scaling the input variables 'x' using the fit_transform() method of the scaler\n"
   ]
  },
  {
   "cell_type": "code",
   "execution_count": 31,
   "metadata": {},
   "outputs": [],
   "source": [
    "# Splitting the data into training and testing sets\n",
    "x_train, x_test, y_train, y_test = train_test_split(x, y, test_size=0.3, random_state=42)\n"
   ]
  },
  {
   "cell_type": "code",
   "execution_count": 32,
   "metadata": {},
   "outputs": [],
   "source": [
    "enrty_number = x_train.shape[1]  # Storing the number of input features in the variable 'enrty_number'\n",
    "class_number = y_train.shape[1]  # Storing the number of output classes in the variable 'class_number'\n",
    "\n"
   ]
  },
  {
   "cell_type": "code",
   "execution_count": 33,
   "metadata": {},
   "outputs": [
    {
     "name": "stdout",
     "output_type": "stream",
     "text": [
      "Model: \"sequential_1\"\n",
      "_________________________________________________________________\n",
      " Layer (type)                Output Shape              Param #   \n",
      "=================================================================\n",
      " dense_2 (Dense)             (None, 8)                 40        \n",
      "                                                                 \n",
      " dense_3 (Dense)             (None, 3)                 27        \n",
      "                                                                 \n",
      "=================================================================\n",
      "Total params: 67\n",
      "Trainable params: 67\n",
      "Non-trainable params: 0\n",
      "_________________________________________________________________\n"
     ]
    }
   ],
   "source": [
    "model = Sequential()  # Creating a Sequential model\n",
    "\n",
    "model.add(Dense(8, input_dim=enrty_number, activation='relu'))  # Adding a dense layer with 8 units, input dimension based on 'enrty_number', and ReLU activation function\n",
    "model.add(Dense(class_number, activation='softmax'))  # Adding a dense layer with 'class_number' units and softmax activation function\n",
    "\n",
    "model.summary()  # Displaying the summary of the model\n"
   ]
  },
  {
   "cell_type": "code",
   "execution_count": 34,
   "metadata": {},
   "outputs": [
    {
     "name": "stdout",
     "output_type": "stream",
     "text": [
      "Epoch 1/70\n"
     ]
    },
    {
     "name": "stdout",
     "output_type": "stream",
     "text": [
      "7/7 [==============================] - 0s 2ms/step - loss: 1.1011 - accuracy: 0.2381\n",
      "Epoch 2/70\n",
      "7/7 [==============================] - 0s 2ms/step - loss: 1.0628 - accuracy: 0.2857\n",
      "Epoch 3/70\n",
      "7/7 [==============================] - 0s 2ms/step - loss: 1.0299 - accuracy: 0.3429\n",
      "Epoch 4/70\n",
      "7/7 [==============================] - 0s 2ms/step - loss: 0.9988 - accuracy: 0.4381\n",
      "Epoch 5/70\n",
      "7/7 [==============================] - 0s 2ms/step - loss: 0.9707 - accuracy: 0.4667\n",
      "Epoch 6/70\n",
      "7/7 [==============================] - 0s 2ms/step - loss: 0.9462 - accuracy: 0.4952\n",
      "Epoch 7/70\n",
      "7/7 [==============================] - 0s 2ms/step - loss: 0.9231 - accuracy: 0.5333\n",
      "Epoch 8/70\n",
      "7/7 [==============================] - 0s 2ms/step - loss: 0.9017 - accuracy: 0.5524\n",
      "Epoch 9/70\n",
      "7/7 [==============================] - 0s 2ms/step - loss: 0.8808 - accuracy: 0.5810\n",
      "Epoch 10/70\n",
      "7/7 [==============================] - 0s 2ms/step - loss: 0.8618 - accuracy: 0.6095\n",
      "Epoch 11/70\n",
      "7/7 [==============================] - 0s 2ms/step - loss: 0.8443 - accuracy: 0.6571\n",
      "Epoch 12/70\n",
      "7/7 [==============================] - 0s 2ms/step - loss: 0.8276 - accuracy: 0.6857\n",
      "Epoch 13/70\n",
      "7/7 [==============================] - 0s 2ms/step - loss: 0.8122 - accuracy: 0.7143\n",
      "Epoch 14/70\n",
      "7/7 [==============================] - 0s 2ms/step - loss: 0.7968 - accuracy: 0.7238\n",
      "Epoch 15/70\n",
      "7/7 [==============================] - 0s 2ms/step - loss: 0.7823 - accuracy: 0.7333\n",
      "Epoch 16/70\n",
      "7/7 [==============================] - 0s 2ms/step - loss: 0.7684 - accuracy: 0.7333\n",
      "Epoch 17/70\n",
      "7/7 [==============================] - 0s 2ms/step - loss: 0.7553 - accuracy: 0.7429\n",
      "Epoch 18/70\n",
      "7/7 [==============================] - 0s 2ms/step - loss: 0.7432 - accuracy: 0.7619\n",
      "Epoch 19/70\n",
      "7/7 [==============================] - 0s 2ms/step - loss: 0.7316 - accuracy: 0.7714\n",
      "Epoch 20/70\n",
      "7/7 [==============================] - 0s 2ms/step - loss: 0.7204 - accuracy: 0.7714\n",
      "Epoch 21/70\n",
      "7/7 [==============================] - 0s 2ms/step - loss: 0.7095 - accuracy: 0.7905\n",
      "Epoch 22/70\n",
      "7/7 [==============================] - 0s 2ms/step - loss: 0.6990 - accuracy: 0.8000\n",
      "Epoch 23/70\n",
      "7/7 [==============================] - 0s 2ms/step - loss: 0.6885 - accuracy: 0.8190\n",
      "Epoch 24/70\n",
      "7/7 [==============================] - 0s 2ms/step - loss: 0.6778 - accuracy: 0.8190\n",
      "Epoch 25/70\n",
      "7/7 [==============================] - 0s 2ms/step - loss: 0.6680 - accuracy: 0.8381\n",
      "Epoch 26/70\n",
      "7/7 [==============================] - 0s 2ms/step - loss: 0.6583 - accuracy: 0.8381\n",
      "Epoch 27/70\n",
      "7/7 [==============================] - 0s 2ms/step - loss: 0.6489 - accuracy: 0.8476\n",
      "Epoch 28/70\n",
      "7/7 [==============================] - 0s 2ms/step - loss: 0.6395 - accuracy: 0.8476\n",
      "Epoch 29/70\n",
      "7/7 [==============================] - 0s 2ms/step - loss: 0.6305 - accuracy: 0.8571\n",
      "Epoch 30/70\n",
      "7/7 [==============================] - 0s 2ms/step - loss: 0.6209 - accuracy: 0.8667\n",
      "Epoch 31/70\n",
      "7/7 [==============================] - 0s 2ms/step - loss: 0.6117 - accuracy: 0.8667\n",
      "Epoch 32/70\n",
      "7/7 [==============================] - 0s 2ms/step - loss: 0.6027 - accuracy: 0.8857\n",
      "Epoch 33/70\n",
      "7/7 [==============================] - 0s 2ms/step - loss: 0.5942 - accuracy: 0.8857\n",
      "Epoch 34/70\n",
      "7/7 [==============================] - 0s 2ms/step - loss: 0.5855 - accuracy: 0.8857\n",
      "Epoch 35/70\n",
      "7/7 [==============================] - 0s 2ms/step - loss: 0.5770 - accuracy: 0.8857\n",
      "Epoch 36/70\n",
      "7/7 [==============================] - 0s 2ms/step - loss: 0.5684 - accuracy: 0.8952\n",
      "Epoch 37/70\n",
      "7/7 [==============================] - 0s 2ms/step - loss: 0.5603 - accuracy: 0.8952\n",
      "Epoch 38/70\n",
      "7/7 [==============================] - 0s 2ms/step - loss: 0.5522 - accuracy: 0.8952\n",
      "Epoch 39/70\n",
      "7/7 [==============================] - 0s 2ms/step - loss: 0.5442 - accuracy: 0.9048\n",
      "Epoch 40/70\n",
      "7/7 [==============================] - 0s 2ms/step - loss: 0.5364 - accuracy: 0.9048\n",
      "Epoch 41/70\n",
      "7/7 [==============================] - 0s 2ms/step - loss: 0.5287 - accuracy: 0.9048\n",
      "Epoch 42/70\n",
      "7/7 [==============================] - 0s 2ms/step - loss: 0.5217 - accuracy: 0.9048\n",
      "Epoch 43/70\n",
      "7/7 [==============================] - 0s 2ms/step - loss: 0.5146 - accuracy: 0.9048\n",
      "Epoch 44/70\n",
      "7/7 [==============================] - 0s 2ms/step - loss: 0.5077 - accuracy: 0.8952\n",
      "Epoch 45/70\n",
      "7/7 [==============================] - 0s 2ms/step - loss: 0.5006 - accuracy: 0.8952\n",
      "Epoch 46/70\n",
      "7/7 [==============================] - 0s 2ms/step - loss: 0.4942 - accuracy: 0.9048\n",
      "Epoch 47/70\n",
      "7/7 [==============================] - 0s 2ms/step - loss: 0.4879 - accuracy: 0.9048\n",
      "Epoch 48/70\n",
      "7/7 [==============================] - 0s 2ms/step - loss: 0.4813 - accuracy: 0.9048\n",
      "Epoch 49/70\n",
      "7/7 [==============================] - 0s 2ms/step - loss: 0.4750 - accuracy: 0.9048\n",
      "Epoch 50/70\n",
      "7/7 [==============================] - 0s 2ms/step - loss: 0.4692 - accuracy: 0.9048\n",
      "Epoch 51/70\n",
      "7/7 [==============================] - 0s 2ms/step - loss: 0.4630 - accuracy: 0.9048\n",
      "Epoch 52/70\n",
      "7/7 [==============================] - 0s 2ms/step - loss: 0.4576 - accuracy: 0.9048\n",
      "Epoch 53/70\n",
      "7/7 [==============================] - 0s 2ms/step - loss: 0.4521 - accuracy: 0.9048\n",
      "Epoch 54/70\n",
      "7/7 [==============================] - 0s 2ms/step - loss: 0.4470 - accuracy: 0.9048\n",
      "Epoch 55/70\n",
      "7/7 [==============================] - 0s 2ms/step - loss: 0.4417 - accuracy: 0.9048\n",
      "Epoch 56/70\n",
      "7/7 [==============================] - 0s 2ms/step - loss: 0.4368 - accuracy: 0.9048\n",
      "Epoch 57/70\n",
      "7/7 [==============================] - 0s 3ms/step - loss: 0.4319 - accuracy: 0.9048\n",
      "Epoch 58/70\n",
      "7/7 [==============================] - 0s 4ms/step - loss: 0.4271 - accuracy: 0.8952\n",
      "Epoch 59/70\n",
      "7/7 [==============================] - 0s 3ms/step - loss: 0.4227 - accuracy: 0.8952\n",
      "Epoch 60/70\n",
      "7/7 [==============================] - 0s 3ms/step - loss: 0.4177 - accuracy: 0.8952\n",
      "Epoch 61/70\n",
      "7/7 [==============================] - 0s 3ms/step - loss: 0.4134 - accuracy: 0.8952\n",
      "Epoch 62/70\n",
      "7/7 [==============================] - 0s 3ms/step - loss: 0.4091 - accuracy: 0.8952\n",
      "Epoch 63/70\n",
      "7/7 [==============================] - 0s 4ms/step - loss: 0.4053 - accuracy: 0.8857\n",
      "Epoch 64/70\n",
      "7/7 [==============================] - 0s 3ms/step - loss: 0.4011 - accuracy: 0.8952\n",
      "Epoch 65/70\n",
      "7/7 [==============================] - 0s 3ms/step - loss: 0.3969 - accuracy: 0.8857\n",
      "Epoch 66/70\n",
      "7/7 [==============================] - 0s 4ms/step - loss: 0.3932 - accuracy: 0.8857\n",
      "Epoch 67/70\n",
      "7/7 [==============================] - 0s 5ms/step - loss: 0.3895 - accuracy: 0.8857\n",
      "Epoch 68/70\n",
      "7/7 [==============================] - 0s 3ms/step - loss: 0.3862 - accuracy: 0.8952\n",
      "Epoch 69/70\n",
      "7/7 [==============================] - 0s 3ms/step - loss: 0.3822 - accuracy: 0.8952\n",
      "Epoch 70/70\n",
      "7/7 [==============================] - 0s 3ms/step - loss: 0.3787 - accuracy: 0.9048\n"
     ]
    },
    {
     "data": {
      "text/plain": [
       "<keras.callbacks.History at 0x1c46dd07880>"
      ]
     },
     "execution_count": 34,
     "metadata": {},
     "output_type": "execute_result"
    }
   ],
   "source": [
    "model.compile(optimizer='sgd', loss='categorical_crossentropy', metrics=['accuracy'])  # Compiling the model with the specified optimizer, loss function, and metrics\n",
    "\n",
    "model.fit(x_train, y_train, batch_size=16, epochs=70)  # Fitting the model to the training data with the specified batch size and number of epochs\n"
   ]
  },
  {
   "cell_type": "code",
   "execution_count": 35,
   "metadata": {},
   "outputs": [
    {
     "name": "stdout",
     "output_type": "stream",
     "text": [
      "Accuracy: 84.44%\n",
      "Loss: 36.84%\n"
     ]
    }
   ],
   "source": [
    "result = model.evaluate(x_test, y_test, verbose=0)  # Evaluating the model on the testing data and storing the results in the 'result' variable\n",
    "print(\"Accuracy: %.2f%%\" % (result[1] * 100))  # Printing the accuracy rate by accessing the second element of 'result' and formatting it as a percentage\n",
    "print(\"Loss: %.2f%%\" % (result[0] * 100))  # Printing the loss rate by accessing the first element of 'result' and formatting it as a percentage\n"
   ]
  },
  {
   "cell_type": "code",
   "execution_count": null,
   "metadata": {},
   "outputs": [],
   "source": []
  }
 ],
 "metadata": {
  "kernelspec": {
   "display_name": "base",
   "language": "python",
   "name": "python3"
  },
  "language_info": {
   "codemirror_mode": {
    "name": "ipython",
    "version": 3
   },
   "file_extension": ".py",
   "mimetype": "text/x-python",
   "name": "python",
   "nbconvert_exporter": "python",
   "pygments_lexer": "ipython3",
   "version": "3.10.9"
  },
  "orig_nbformat": 4
 },
 "nbformat": 4,
 "nbformat_minor": 2
}
